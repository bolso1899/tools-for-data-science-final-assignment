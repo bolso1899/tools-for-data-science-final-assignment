{
 "cells": [
  {
   "cell_type": "markdown",
   "id": "6d5e2542-df32-4373-b9d4-4f392988aa8e",
   "metadata": {},
   "source": [
    "# Data Science Tools and Ecosystem"
   ]
  },
  {
   "cell_type": "markdown",
   "id": "8b6ea88c-c17b-4aac-adc1-fa6d26c124da",
   "metadata": {
    "tags": []
   },
   "source": [
    "## In this notebook, Data Science Tools and Ecosystem are summarized."
   ]
  },
  {
   "cell_type": "markdown",
   "id": "88976e13-0140-4a75-9cbc-00cffe9faab6",
   "metadata": {},
   "source": [
    "### **Objectives:**"
   ]
  },
  {
   "cell_type": "markdown",
   "id": "8c64f4a3-dd49-459f-89a5-6fd21d12b673",
   "metadata": {},
   "source": [
    "- look at popular languages for Data Science\n",
    "- look at commonly used libraries used in Data Science\n",
    "- look at some of the Data Science tools"
   ]
  },
  {
   "cell_type": "markdown",
   "id": "176d7377-594e-4b71-8fc3-65c7fa2a087b",
   "metadata": {
    "tags": []
   },
   "source": [
    "### Some of the popular languages that Data Scientists use are:"
   ]
  },
  {
   "cell_type": "markdown",
   "id": "fb00a05b-cbf4-4b08-a4bd-75cac6b52ebe",
   "metadata": {},
   "source": [
    "1. Python\n",
    "2. R\n",
    "3. SQL"
   ]
  },
  {
   "cell_type": "markdown",
   "id": "c5a96713-74d6-458f-971c-e3c54b9e6378",
   "metadata": {
    "tags": []
   },
   "source": [
    "### Some of the commonly used libraries used by Data Scientists include:"
   ]
  },
  {
   "cell_type": "markdown",
   "id": "09449463-ce76-4788-9d81-54adb4ce1f5b",
   "metadata": {},
   "source": [
    "1. NumPy\n",
    "2. Pandas\n",
    "3. ggplot"
   ]
  },
  {
   "cell_type": "markdown",
   "id": "e159a4db-60ef-4d4f-b068-1a053cbb5e46",
   "metadata": {},
   "source": [
    "#### Data Science Tools"
   ]
  },
  {
   "cell_type": "markdown",
   "id": "7a255799-bdd7-4f7d-93d4-2a1645386d47",
   "metadata": {},
   "source": [
    "|Data Science Tools|\n",
    "|----------------|\n",
    "|Jupyter Notebook|\n",
    "|RStudio|\n",
    "|Visual Studio Code|"
   ]
  },
  {
   "cell_type": "markdown",
   "id": "4c3ec44d-a1a4-4a3b-b818-26fc4ea979df",
   "metadata": {},
   "source": [
    "### Below are a few examples of evaluating arithmetic expressions in Python"
   ]
  },
  {
   "cell_type": "code",
   "execution_count": 6,
   "id": "28417f5d-80ac-4539-8ec1-cb06df39ca21",
   "metadata": {},
   "outputs": [
    {
     "data": {
      "text/plain": [
       "17"
      ]
     },
     "execution_count": 6,
     "metadata": {},
     "output_type": "execute_result"
    }
   ],
   "source": [
    "#This a simple arithmetic expression to mutiply then add integers\n",
    "(3*4)+5"
   ]
  },
  {
   "cell_type": "markdown",
   "id": "4efa895a-a9c4-49cf-a360-7f58bf5905d1",
   "metadata": {},
   "source": [
    "### Create a code cell to convert minutes to hours"
   ]
  },
  {
   "cell_type": "code",
   "execution_count": 8,
   "id": "327b34ca-8797-4daf-9dc0-5501a296c205",
   "metadata": {},
   "outputs": [
    {
     "name": "stdout",
     "output_type": "stream",
     "text": [
      "150 minutes are 2 hours and 30 minutes.\n"
     ]
    }
   ],
   "source": [
    "def minutos_a_horas_y_minutos(minutos):\n",
    "    horas = minutos // 60  # Divide los minutos entre 60 para obtener las horas enteras\n",
    "    minutos_restantes = minutos % 60  # Calcula los minutos restantes después de extraer las horas enteras\n",
    "    return horas, minutos_restantes\n",
    "\n",
    "minutos_totales = 150\n",
    "horas, minutos = minutos_a_horas_y_minutos(minutos_totales)\n",
    "print(f\"{minutos_totales} minutes are {horas} hours and {minutos} minutes.\")"
   ]
  },
  {
   "cell_type": "markdown",
   "id": "817cb0dc-4f50-4f37-bae5-659a9454ff0f",
   "metadata": {},
   "source": [
    "## Author\n",
    "Theo Pereira"
   ]
  },
  {
   "cell_type": "code",
   "execution_count": null,
   "id": "1eb14d2e-616e-45b0-ad78-fdb8c0f5a9ce",
   "metadata": {},
   "outputs": [],
   "source": []
  }
 ],
 "metadata": {
  "kernelspec": {
   "display_name": "Python 3 (ipykernel)",
   "language": "python",
   "name": "python3"
  },
  "language_info": {
   "codemirror_mode": {
    "name": "ipython",
    "version": 3
   },
   "file_extension": ".py",
   "mimetype": "text/x-python",
   "name": "python",
   "nbconvert_exporter": "python",
   "pygments_lexer": "ipython3",
   "version": "3.10.9"
  }
 },
 "nbformat": 4,
 "nbformat_minor": 5
}
